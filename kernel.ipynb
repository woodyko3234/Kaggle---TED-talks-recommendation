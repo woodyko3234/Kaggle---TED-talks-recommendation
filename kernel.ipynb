{
  "cells": [
    {
      "metadata": {
        "_uuid": "941aeb000af75f8a2181eaad1d2b53fe88c079fb"
      },
      "cell_type": "markdown",
      "source": "The most kaggle datasets I played are supervised learning, but this ted-talks dataset isn't labelled. It is very interesting that I may try some EDA and find out how I can search for some talks which have similar topics."
    },
    {
      "metadata": {
        "_uuid": "8f2839f25d086af736a60e9eeb907d3b93b6e0e5",
        "_cell_guid": "b1076dfc-b9ad-4769-8c92-a6c4dae69d19",
        "trusted": true,
        "collapsed": true
      },
      "cell_type": "code",
      "source": "import numpy as np # linear algebra\nimport pandas as pd # data processing, CSV file I/O (e.g. pd.read_csv)\n\nimport os\nprint(os.listdir(\"../input\"))",
      "execution_count": null,
      "outputs": []
    },
    {
      "metadata": {
        "_cell_guid": "79c7e3d0-c299-4dcb-8224-4455121ee9b0",
        "_uuid": "d629ff2d2480ee46fbb7e2d37f6b5fab8052498a",
        "trusted": true,
        "collapsed": true
      },
      "cell_type": "code",
      "source": "ted_df = pd.read_csv('../input/ted_main.csv')\ntranscript_df = pd.read_csv('../input/transcripts.csv')",
      "execution_count": null,
      "outputs": []
    },
    {
      "metadata": {
        "trusted": true,
        "_uuid": "9cb6d1c6c9f26b73f9379d9594b6971c7b364c92",
        "collapsed": true
      },
      "cell_type": "code",
      "source": "ted_df.head(3)",
      "execution_count": null,
      "outputs": []
    },
    {
      "metadata": {
        "trusted": true,
        "_uuid": "2c9cab4193138e89a2c794fda819a53350760db4",
        "collapsed": true
      },
      "cell_type": "code",
      "source": "transcript_df.head(3)",
      "execution_count": null,
      "outputs": []
    },
    {
      "metadata": {
        "_uuid": "29ad79dfbe4cb5506715dc8d08b1a355ae46ff8e"
      },
      "cell_type": "markdown",
      "source": "**GOAL**\n\nSince we can easily do some sorting/filtering to find out the talks we feel interested, such as speaker names, number of comments, duration, ratings, tags, and popularity (views), I'm kind of interested in analyzing the transcript data, building another related talks recommendation algorithm, and comparing it with the related_talks column in ted_main.csv."
    },
    {
      "metadata": {
        "_uuid": "e69d9fab01c451063472554f63c6b35dfc882c6a"
      },
      "cell_type": "markdown",
      "source": "**1. Define nltk processing method**\n\nAlthough word vectors and semantic trees are very popular and widely applied nowadays, my first idea is to do BoW (Bag-of-Words) counting and compute similarity. Word vectors might also worth trying, but let's start with simpler solution."
    },
    {
      "metadata": {
        "_uuid": "a2765d70dd4d20674b0bd6b69fe02abe7e05c2f1"
      },
      "cell_type": "markdown",
      "source": "**2. Word data preprocessing**\n\nBefore conducting word counting and analysis, I want to lemmatize the lectures and remove stopwords to make the dataset simpler."
    },
    {
      "metadata": {
        "trusted": true,
        "_uuid": "1db6340435788b2d50b6af09a4045d860b466c60",
        "collapsed": true
      },
      "cell_type": "code",
      "source": "from nltk.stem import PorterStemmer #for word stemming\nfrom nltk.stem import WordNetLemmatizer #for word lemmatizing\nfrom nltk import pos_tag #for word lemmatizing\nfrom nltk.corpus import wordnet, stopwords #for word subject analyzing and stopwords removal\nfrom nltk.tokenize import sent_tokenize, word_tokenize #for tokenizing\nfrom string import punctuation\n\nimport tqdm\n#https://github.com/tqdm/tqdm #processing bar module\nimport gc\nimport re",
      "execution_count": null,
      "outputs": []
    },
    {
      "metadata": {
        "_uuid": "2493f72fb149142b8f8211195d6f56e1258505c2"
      },
      "cell_type": "markdown",
      "source": "**2.1 Word Lemmatizing and Tokenizing**\n\nSince I would like to apply BoW to build the algorithm, I think word lemmatizing is preferable to word stemming. To avoid the lemmatizing function from doing all the same regardless its subject, I also apply pos_tag function from nltk."
    },
    {
      "metadata": {
        "trusted": true,
        "collapsed": true,
        "_uuid": "6721478fe9bda4040a3e02a4e7c5210210737025"
      },
      "cell_type": "code",
      "source": "def nltk2wn_tag(nltk_tag):\n    if nltk_tag.startswith('J'):\n        return wordnet.ADJ\n    elif nltk_tag.startswith('V'):\n        return wordnet.VERB\n    elif nltk_tag.startswith('N'):\n        return wordnet.NOUN\n    elif nltk_tag.startswith('R'):\n        return wordnet.ADV\n    else:\n        return None",
      "execution_count": null,
      "outputs": []
    },
    {
      "metadata": {
        "trusted": true,
        "collapsed": true,
        "_uuid": "0bd1457d16a995da3378e2cdac543a946a62c76f"
      },
      "cell_type": "code",
      "source": "def lemmatize_sentence(sentence):\n    '''\n    read sentences from the dataset and return lemmatized_sentences\n    '''\n    lemmatizer = WordNetLemmatizer()\n    #There are some sentences linked together by the dot, we should separate them\n    sentence = re.sub(r'[.](?=\\w)', '. ', sentence)\n    nltk_tagged = pos_tag(word_tokenize(sentence))\n    #stop words: all punctuation and common stop words (https://gist.github.com/sebleier/554280)\n    stop_words = set(stopwords.words('english') + list(punctuation))\n    #update some into the stop_words set\n    stop_words.update(['us','ve','nt','re','ll','wo','ca','m','s','t','``','...','-','—',' ','laughter','applause', 'ok', 'oh'])\n    wn_tagged = map(lambda x: (x[0], nltk2wn_tag(x[1])), nltk_tagged)\n    res_words = []\n    for word, tag in wn_tagged:\n        #word after word_tokenize would be like: I'm => [I, 'm]\n        #so it's necessary to remove \"'\" to make it possible to match the words with the stop_words set\n        word = word.replace(\"'\", \"\")\n        #remove stop words\n        if word.lower() in stop_words: continue\n        if tag is None:\n            res_words.append(word)\n        else:\n            res_words.append(lemmatizer.lemmatize(word, tag))\n    return \" \".join(res_words)",
      "execution_count": null,
      "outputs": []
    },
    {
      "metadata": {
        "trusted": true,
        "_uuid": "c43d39f2e5f56c18ed5ab9bed51f211a09365a7f",
        "collapsed": true
      },
      "cell_type": "code",
      "source": "for i in tqdm.tqdm(range(len(transcript_df['transcript']))):\n    #check attribute first\n    sentence = transcript_df.iloc[i, 0]\n    #do word lemmatizing\n    sentence = lemmatize_sentence(sentence)\n    transcript_df.iloc[i, 0] = sentence",
      "execution_count": null,
      "outputs": []
    },
    {
      "metadata": {
        "_uuid": "7e5775c66e98244e9376ee6f91cf47dfcc4aec8e"
      },
      "cell_type": "markdown",
      "source": "**2.2 BoW algorithm (Tf-Idf)**\n\nTo build the recommendation system, I'd like to pick up some similar but not too frequent or mere key words/tags. After some trial and error, I find that words presentation between 0.7% and 7% might provide a good filter.\n"
    },
    {
      "metadata": {
        "trusted": true,
        "_uuid": "a95430e45a7a6ff42874ceffaafb884431912d7f",
        "scrolled": true,
        "collapsed": true
      },
      "cell_type": "code",
      "source": "from sklearn.feature_extraction.text import TfidfVectorizer\nvectorizer = TfidfVectorizer(use_idf=True,\n                        ngram_range=(1,1), # considering only 1-grams\n                        min_df = 0.007,     # cut words present in less than 0.7% of documents\n                        max_df = 0.07)      # cut words present in more than 7% of documents \ntfidf = vectorizer.fit_transform(transcript_df['transcript'])\nprint(tfidf.shape)",
      "execution_count": null,
      "outputs": []
    },
    {
      "metadata": {
        "trusted": true,
        "_uuid": "8af5b2fbc83895712d11f6a0a117d96c6b213839",
        "collapsed": true
      },
      "cell_type": "code",
      "source": "# Let's make a function to call the top ranked words in a vectorizer\ndef rank_words(terms, feature_matrix):\n    sums = feature_matrix.sum(axis=0)\n    data = []\n    for col, term in enumerate(terms):\n        data.append( (term, sums[0,col]) )\n    ranked = pd.DataFrame(data, columns=['term','rank']).sort_values('rank', ascending=False)\n    return ranked\n\nranked = rank_words(terms=vectorizer.get_feature_names(), feature_matrix=tfidf)\nranked.head()",
      "execution_count": null,
      "outputs": []
    },
    {
      "metadata": {
        "trusted": true,
        "_uuid": "d5e6162a0f1751d7c8bb533429259e5d3dadd9f7",
        "collapsed": true
      },
      "cell_type": "code",
      "source": "# Let's visualize a word cloud with the frequencies obtained by idf transformation\ndic = {ranked.loc[i,'term'].upper(): ranked.loc[i,'rank'] for i in range(0,len(ranked))}\n\nimport matplotlib.pyplot as plt\nfrom wordcloud import WordCloud\nwordcloud = WordCloud(background_color='white',\n                      max_words=100,\n                      colormap='Reds').generate_from_frequencies(dic)\nfig = plt.figure(1,figsize=(12,10))\nplt.imshow(wordcloud,interpolation=\"bilinear\")\nplt.axis('off')\nplt.show()",
      "execution_count": null,
      "outputs": []
    },
    {
      "metadata": {
        "trusted": true,
        "collapsed": true,
        "_uuid": "6efe7cdbc051e8b79ce371f734670e4aaa95bb16"
      },
      "cell_type": "code",
      "source": "### Get Similarity Scores using cosine similarity\nfrom sklearn.metrics.pairwise import cosine_similarity\nsim_unigram=cosine_similarity(tfidf)",
      "execution_count": null,
      "outputs": []
    },
    {
      "metadata": {
        "trusted": true,
        "_uuid": "91a4e4eb847df831b1c6ca6b062a91bc757a11db",
        "collapsed": true
      },
      "cell_type": "code",
      "source": "#create a column to record the vid number (index)\ntranscript_df['index'] = transcript_df.index.astype(str)\ndef get_similar_articles(x):\n    return \",\".join(transcript_df['index'].loc[x.argsort()[-5:-1]])\ntranscript_df['similar_articles_unigram']=[get_similar_articles(x) for x in sim_unigram]",
      "execution_count": null,
      "outputs": []
    },
    {
      "metadata": {
        "trusted": true,
        "_uuid": "00c82a9c350b98f7d8b96c3e356389c60c886b66",
        "collapsed": true
      },
      "cell_type": "code",
      "source": "for url in transcript_df.iloc[[0,663,730,1233,338], 1]:\n    print(url)",
      "execution_count": null,
      "outputs": []
    },
    {
      "metadata": {
        "_uuid": "b5489c18cc9408ceb1da4b8612802a6227d98621"
      },
      "cell_type": "markdown",
      "source": "It's pretty cool that the recommendation system picks one talk which is given by the same speaker!"
    },
    {
      "metadata": {
        "trusted": true,
        "_uuid": "a464a0301273b0e428f036f15b94bd94184e8a8e",
        "collapsed": true
      },
      "cell_type": "code",
      "source": "','.join(re.findall('(?<=\\'id\\': )\\d+',ted_df['related_talks'][0]))\nfor url in transcript_df.iloc[[0,865,1738,2276,892,1232],1]:\n    print(url)",
      "execution_count": null,
      "outputs": []
    },
    {
      "metadata": {
        "_uuid": "95b2e1fc855052c6fcb330329703e08257b21047"
      },
      "cell_type": "markdown",
      "source": "Actually, I really don't understand why TED thinks these talks are related...... :P\n\nHope you guys find this kernel usful. Thanks to https://www.kaggle.com/gunnvant/building-content-recommender-tutorial and https://www.kaggle.com/adelsondias/ted-talks-topic-models , they are really inspiring and awesome!"
    },
    {
      "metadata": {
        "_uuid": "04382bdcd7a50354715d248b64b94a3d161510df"
      },
      "cell_type": "markdown",
      "source": "Reference:\n\nhttps://textminingonline.com/dive-into-nltk-part-iv-stemming-and-lemmatization\n\nhttps://nlp.stanford.edu/IR-book/html/htmledition/stemming-and-lemmatization-1.html\n\nhttps://simonhessner.de/lemmatize-whole-sentences-with-python-and-nltks-wordnetlemmatizer/\n\nhttps://gist.github.com/sebleier/554280\n\nhttps://www.kaggle.com/gunnvant/building-content-recommender-tutorial\n\nhttps://www.kaggle.com/adelsondias/ted-talks-topic-models\n\nhttps://en.wikipedia.org/wiki/Similarity_measure"
    }
  ],
  "metadata": {
    "kernelspec": {
      "display_name": "Python 3",
      "language": "python",
      "name": "python3"
    },
    "language_info": {
      "name": "python",
      "version": "3.6.4",
      "mimetype": "text/x-python",
      "codemirror_mode": {
        "name": "ipython",
        "version": 3
      },
      "pygments_lexer": "ipython3",
      "nbconvert_exporter": "python",
      "file_extension": ".py"
    }
  },
  "nbformat": 4,
  "nbformat_minor": 1
}